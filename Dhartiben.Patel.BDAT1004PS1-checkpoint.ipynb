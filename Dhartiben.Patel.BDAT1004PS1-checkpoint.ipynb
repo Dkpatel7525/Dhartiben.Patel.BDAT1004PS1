{
 "cells": [
  {
   "cell_type": "markdown",
   "id": "9e2496fe-7561-453b-84e2-35f0621567c5",
   "metadata": {},
   "source": [
    "\n",
    "QUESTION : 1\n",
    "\n",
    "Description : Here I'm using math fuction to access the value of pi."
   ]
  },
  {
   "cell_type": "code",
   "execution_count": 1,
   "id": "9dedb98c-c8d1-4d00-bd9f-78f03f0700a6",
   "metadata": {},
   "outputs": [
    {
     "name": "stdout",
     "output_type": "stream",
     "text": [
      "<class 'int'>\n",
      "<class 'float'>\n",
      "<class 'bool'>\n",
      "<class 'str'>\n",
      "<class 'int'>\n",
      "<class 'str'>\n",
      "<class 'str'>\n",
      "<class 'float'>\n",
      "<class 'int'>\n",
      "<class 'set'>\n",
      "<class 'bool'>\n",
      "<class 'float'>\n"
     ]
    }
   ],
   "source": [
    "num1=5\n",
    "print(type(num1))\n",
    "\n",
    "num2=5.0\n",
    "print(type(num2))\n",
    "\n",
    "num3=5>1\n",
    "print(type(num3))\n",
    "\n",
    "num4='5'\n",
    "print(type(num4))\n",
    "\n",
    "num5=5*2\n",
    "print(type(num5))\n",
    "\n",
    "num6='5'*2\n",
    "print(type(num6))\n",
    "\n",
    "num7='5'+'2'\n",
    "print(type(num7))\n",
    "\n",
    "num8=5/2\n",
    "print(type(num8))\n",
    "\n",
    "num9=5%2\n",
    "print(type(num9))\n",
    "\n",
    "num10={5,2,1}\n",
    "print(type(num10))\n",
    "\n",
    "num11= 5==3\n",
    "print(type(num11))\n",
    "\n",
    "import math       \n",
    "\n",
    "num12=math.pi              \n",
    "print(type(num12))"
   ]
  },
  {
   "cell_type": "markdown",
   "id": "c8d6bc95-90a9-4a99-b6d6-2b56f6619159",
   "metadata": {},
   "source": [
    "\n",
    "QUESTION : 2\n",
    "\n",
    "Description : here we use len()function to measure the leangth of the given string."
   ]
  },
  {
   "cell_type": "code",
   "execution_count": 2,
   "id": "30bbaf35-9b19-4855-8c27-ce031a3d1a4b",
   "metadata": {},
   "outputs": [
    {
     "name": "stdout",
     "output_type": "stream",
     "text": [
      "34\n"
     ]
    }
   ],
   "source": [
    "string1= len('Supercalifragilisticexpialidocious')\n",
    "print(string1)"
   ]
  },
  {
   "cell_type": "code",
   "execution_count": 3,
   "id": "1387e8cf-25f0-461c-af22-4366ec4e0cde",
   "metadata": {},
   "outputs": [
    {
     "name": "stdout",
     "output_type": "stream",
     "text": [
      "True\n"
     ]
    }
   ],
   "source": [
    "str = 'ice' in 'Supercalifragilisticexpialidocious'\n",
    "print(str)\n"
   ]
  },
  {
   "cell_type": "code",
   "execution_count": 7,
   "id": "b3ca7ea5-9af1-4e1a-83a1-47607dc6340d",
   "metadata": {},
   "outputs": [
    {
     "name": "stdout",
     "output_type": "stream",
     "text": [
      "34\n",
      "27\n",
      "34\n"
     ]
    }
   ],
   "source": [
    "str2=len('Supercalifragilisticexpialidocious')        \n",
    "str3=len('Honorificabilitudinitatibus')\n",
    "str4=len('Bababadalgharaghtakamminarronnkonn')\n",
    "\n",
    "print(str2)\n",
    "print(str3)\n",
    "print(str4)"
   ]
  },
  {
   "cell_type": "code",
   "execution_count": 8,
   "id": "e6011cb3-c386-4045-a851-175a35dee409",
   "metadata": {},
   "outputs": [
    {
     "name": "stdout",
     "output_type": "stream",
     "text": [
      "[' Bartok', ' Bellini', ' Bernstein', ' Brian', ' Buxtehude', 'Berlioz', 'Borodin']\n"
     ]
    }
   ],
   "source": [
    "Words =['Berlioz','Borodin',' Brian',' Bartok',' Bellini',' Buxtehude',' Bernstein']\n",
    "Words.sort()            # arrange words in order\n",
    "print(Words)\n"
   ]
  },
  {
   "cell_type": "markdown",
   "id": "4cb6ee0a-343c-4c46-a272-8c2d61ea574a",
   "metadata": {},
   "source": [
    "\n",
    "QUESTION :3\n"
   ]
  },
  {
   "cell_type": "code",
   "execution_count": 9,
   "id": "9a13c490-7c19-49cb-8be9-5019999bd30c",
   "metadata": {},
   "outputs": [
    {
     "name": "stdin",
     "output_type": "stream",
     "text": [
      "Enter a: 2\n",
      "Enter b: 2\n",
      "Enter c: 2\n"
     ]
    },
    {
     "name": "stdout",
     "output_type": "stream",
     "text": [
      "1.7320508075688772\n"
     ]
    }
   ],
   "source": [
    "import math\n",
    "def triangleArea(a,b,c):\n",
    "    s = (a+b+c)/2\n",
    "    calulateSide = s*(s-a)*(s-b)*(s-c)\n",
    "    calulateSide = math.sqrt(calulateSide)\n",
    "    return calulateSide\n",
    "\n",
    "a = int(input(\"Enter a:\"))\n",
    "b = int(input(\"Enter b:\"))\n",
    "c = int(input(\"Enter c:\"))\n",
    "\n",
    "area = triangleArea(a,b,c)\n",
    "print(area)"
   ]
  },
  {
   "cell_type": "markdown",
   "id": "46275037-d1a2-477b-a7d6-5c03974d797d",
   "metadata": {},
   "source": [
    "\n",
    "QUESTION :4\n"
   ]
  },
  {
   "cell_type": "code",
   "execution_count": 10,
   "id": "98ad1949-0242-4047-a521-5cd4f17aa160",
   "metadata": {},
   "outputs": [
    {
     "name": "stdin",
     "output_type": "stream",
     "text": [
      "Input the number of elements to be stored in the array:  5\n",
      "Element 0 : 25\n",
      "Element 1 : 47\n",
      "Element 2 : 42\n",
      "Element 3 : 56\n",
      "Element 4 : 32\n"
     ]
    },
    {
     "name": "stdout",
     "output_type": "stream",
     "text": [
      "The Even elements are: [42, 56, 32]\n",
      "The odd elements are: [25, 47]\n"
     ]
    }
   ],
   "source": [
    "size = int(input(\"Input the number of elements to be stored in the array: \"))\n",
    "\n",
    "evenNums = []\n",
    "oddNums= []\n",
    "for num in range(0,size):\n",
    "    element = int(input(\"Element {} :\".format(num)))\n",
    "    \n",
    "    if(element % 2 ==0):\n",
    "        evenNums.append(element)\n",
    "    else:\n",
    "        oddNums.append(element)\n",
    "    \n",
    "print(\"The Even elements are:\",evenNums)\n",
    "print(\"The odd elements are:\",oddNums)"
   ]
  },
  {
   "cell_type": "markdown",
   "id": "fb04f118-f269-445f-887d-594063a5ae9a",
   "metadata": {},
   "source": [
    "\n",
    "QUESTION : 5\n"
   ]
  },
  {
   "cell_type": "code",
   "execution_count": 25,
   "id": "23171996-fb6b-41af-a671-e4dfbbdf0f5b",
   "metadata": {},
   "outputs": [
    {
     "name": "stdin",
     "output_type": "stream",
     "text": [
      "Enter x : 1\n",
      "Enter y : 1\n",
      "Enter x1 : 0\n",
      "Enter y1 : 0\n",
      "Enter x2 : 2\n",
      "Enter y2 : 3\n"
     ]
    },
    {
     "name": "stdout",
     "output_type": "stream",
     "text": [
      "True\n"
     ]
    }
   ],
   "source": [
    "#5(A)\n",
    "\n",
    "\n",
    "def inside(x,y,x1,y1,x2,y2):\n",
    "    if(x>x1 and x<x2 and y>y1 and y<y2):\n",
    "       return True\n",
    "    else:\n",
    "       return False\n",
    "x = int(input(\"Enter x :\"))\n",
    "y = int(input(\"Enter y :\"))\n",
    "x1 = int(input(\"Enter x1 :\"))\n",
    "y1 = int(input(\"Enter y1 :\"))\n",
    "x2 = int(input(\"Enter x2 :\"))\n",
    "y2 = int(input(\"Enter y2 :\"))\n",
    "\n",
    "inside(x,y,x1,y1,x2,y2)\n",
    "print(inside(x,y,x1,y1,x2,y2))"
   ]
  },
  {
   "cell_type": "code",
   "execution_count": 26,
   "id": "5f765d4e-7449-4d74-8f10-f5a600660a62",
   "metadata": {},
   "outputs": [
    {
     "name": "stdout",
     "output_type": "stream",
     "text": [
      "False\n",
      "True\n"
     ]
    }
   ],
   "source": [
    "# 5(B)\n",
    "\n",
    "a = 1\n",
    "b = 1\n",
    "c = 0.3\n",
    "d = 0.5\n",
    "e= 1.1\n",
    "f= 0.7\n",
    "\n",
    "inside(a,b,c,d,e,f)\n",
    "print(inside(a,b,c,d,e,f))\n",
    "\n",
    "a=1\n",
    "b=1\n",
    "c = 0.5\n",
    "d = 0.2\n",
    "e= 1.1\n",
    "f= 2\n",
    "\n",
    "inside(a,b,c,d,e,f)\n",
    "print(inside(a,b,c,d,e,f))"
   ]
  },
  {
   "cell_type": "markdown",
   "id": "d648dd5f-ba4f-44d7-a442-85e260c6f8ed",
   "metadata": {},
   "source": [
    "\n",
    "QUESTION :6\n"
   ]
  },
  {
   "cell_type": "code",
   "execution_count": 7,
   "id": "9649ad89-eb39-463f-a3c9-9455b83def86",
   "metadata": {},
   "outputs": [
    {
     "name": "stdin",
     "output_type": "stream",
     "text": [
      "Enter Word :  happy\n"
     ]
    },
    {
     "name": "stdout",
     "output_type": "stream",
     "text": [
      "appyhay\n"
     ]
    },
    {
     "name": "stdin",
     "output_type": "stream",
     "text": [
      "Enter Word :  enter\n"
     ]
    },
    {
     "name": "stdout",
     "output_type": "stream",
     "text": [
      "enterway\n"
     ]
    }
   ],
   "source": [
    "def pig(str):\n",
    "    \n",
    "    vowel = ['a','e','i','o','u']\n",
    "    firstchar = str[0]\n",
    "    if(firstchar in vowel):\n",
    "        str = str + 'way'\n",
    "    else:\n",
    "        str = str[1:len(str)] + str[0] + 'ay'\n",
    "    return str\n",
    "\n",
    "w1 = input(\"Enter Word : \")\n",
    "print(pig(w1))\n",
    "\n",
    "w2 = input(\"Enter Word : \")\n",
    "print(pig(w2))\n"
   ]
  },
  {
   "cell_type": "markdown",
   "id": "37ed2d36-5733-4bcf-b7e9-33f95e6209ee",
   "metadata": {},
   "source": [
    "\n",
    "QUESTION :7\n"
   ]
  },
  {
   "cell_type": "code",
   "execution_count": 6,
   "id": "70350bbd-dac9-47b4-84da-a3d89bf0b75b",
   "metadata": {},
   "outputs": [
    {
     "name": "stdout",
     "output_type": "stream",
     "text": [
      "There are 15 patients of blood type A\n",
      "There are 1 patients of blood type B\n",
      "There are 13 patients of blood type AB\n",
      "There are 15 patients of blood type O\n",
      "There are 0 patients of blood type OO\n"
     ]
    }
   ],
   "source": [
    "file =open('bloodtype.txt')\n",
    "file1 = file.read()\n",
    "file1 = file1.lower()\n",
    "\n",
    "a = 0\n",
    "b = 0\n",
    "ab = 0\n",
    "o = 0\n",
    "oo = 0\n",
    "\n",
    "\n",
    "bloodList = file1.split(\" \")\n",
    "for bloodtype in bloodList:\n",
    "    if( bloodtype == \"a\"):\n",
    "        a=a+1\n",
    "    elif(bloodtype == \"b\"):\n",
    "        b= b+1\n",
    "    elif(bloodtype == \"ab\"):\n",
    "        ab=ab+1\n",
    "    elif(bloodtype == \"o\"):\n",
    "        o=o+1\n",
    "    elif(bloodtype == \"oo\"):\n",
    "        oo=oo+1\n",
    "\n",
    "    \n",
    "print(\"There are\",a,\"patients of blood type A\")\n",
    "print(\"There are\",b,\"patients of blood type B\")\n",
    "print(\"There are\",ab,\"patients of blood type AB\")\n",
    "print(\"There are\",o,\"patients of blood type O\")\n",
    "print(\"There are\",oo,\"patients of blood type OO\")\n"
   ]
  },
  {
   "cell_type": "markdown",
   "id": "8db46d04-e2ad-4be8-8462-7fe676738981",
   "metadata": {},
   "source": [
    "\n",
    "QUESTION :8\n"
   ]
  },
  {
   "cell_type": "code",
   "execution_count": 1,
   "id": "116eb958-0eec-4800-bf37-624d81f3bea4",
   "metadata": {},
   "outputs": [
    {
     "name": "stdin",
     "output_type": "stream",
     "text": [
      "Enter the currency code from above list: JPY\n",
      "Enter the amount to be converted: 100\n"
     ]
    },
    {
     "name": "stdout",
     "output_type": "stream",
     "text": [
      "1.241401\n"
     ]
    }
   ],
   "source": [
    "file = open(\"currencies.txt\",\"r\")\n",
    "file = file.readlines()\n",
    "\n",
    "def curconv (cur,amount,d):\n",
    " print((d[cur.upper()])*(int(amount)))\n",
    "d ={\"AUD\":1.034157,\"CHF\":1.0237414,\"CNY\":0.1550176,\"DKK\":0.1651442,\"EUR\":1.2296544,\"GBP\":1.5550989,\"HKD\":0.1270207,\"INR\":0.0177643,\"JPY\":0.01241401,\"MXN\":0.0751848,\"MYR\":0.3145411,\"NOK\":0.1677063,\"NZD\":0.8003591,\"PHP\":0.0233234,\"SEK\":0.148269,\"SGD\":0.788871,\"THB\":0.0313789}\n",
    "cur=input(\"Enter the currency code from above list:\")\n",
    "amount = int(input(\"Enter the amount to be converted:\"))\n",
    "curconv(cur,amount,d)\n"
   ]
  },
  {
   "cell_type": "markdown",
   "id": "1d744eab-7480-4a7b-9fe1-5c0b7d1d5a58",
   "metadata": {},
   "source": [
    "\n",
    "QUESTION :9\n"
   ]
  },
  {
   "cell_type": "code",
   "execution_count": 5,
   "id": "a2f1fe27-245f-45ee-97a1-d29601de6923",
   "metadata": {},
   "outputs": [
    {
     "name": "stdout",
     "output_type": "stream",
     "text": [
      "<class 'TypeError'>\n",
      "<class 'IndexError'>\n",
      "<class 'ValueError'>\n",
      "<class 'NameError'>\n",
      "<class 'FileNotFoundError'>\n"
     ]
    }
   ],
   "source": [
    "\n",
    "\n",
    "try:\n",
    "    add = 6 + 'a'  \n",
    "except Exception as exception:\n",
    "    first = type(exception)\n",
    "    print(first)\n",
    "    \n",
    "\n",
    "\n",
    "second = ['d','h','a','r','t','i','p','a','t','e']\n",
    "try:\n",
    "    print(second[12])    \n",
    "except Exception as exception:\n",
    "    second = type(exception)\n",
    "    print(second)\n",
    "\n",
    "\n",
    "import math\n",
    "try:\n",
    "    math.sqrt(-1.0)\n",
    "except Exception as exception:\n",
    "    third = type(exception)\n",
    "    print(third)\n",
    "\n",
    "\n",
    "try:\n",
    "    print(x)\n",
    "except Exception as exception:\n",
    "    forth = type(exception)\n",
    "    print(forth)\n",
    "\n",
    "\n",
    "try:\n",
    "    file = open(\"myfile.txt\")\n",
    "except Exception as exception:\n",
    "    fifth = type(exception)\n",
    "    print(fifth)"
   ]
  },
  {
   "cell_type": "markdown",
   "id": "f53f8622-402a-478c-9dc1-0a03cd729a1e",
   "metadata": {},
   "source": [
    "\n",
    "QUESTION : 10\n"
   ]
  },
  {
   "cell_type": "code",
   "execution_count": 22,
   "id": "7b2b3abd-87c6-49ee-a86d-b463cecdbc58",
   "metadata": {},
   "outputs": [
    {
     "name": "stdin",
     "output_type": "stream",
     "text": [
      "Enter Sentence : Apple\n"
     ]
    },
    {
     "name": "stdout",
     "output_type": "stream",
     "text": [
      "[0, 0, 0, 0, 1, 0, 0, 0, 0, 0, 0, 1, 0, 0, 0, 2, 0, 0, 0, 0, 0, 0, 0, 0, 0, 0]\n"
     ]
    }
   ],
   "source": [
    "letter = 'abcdefghijklmnopqrstuvwxyz'\n",
    "\n",
    "\n",
    "def frequencies(sentence):\n",
    "    letterCount =[]\n",
    "    \n",
    "    for char in letter:\n",
    "        charCount = 0\n",
    "        for i in range(0,len(sentence)):\n",
    "            if(char == sentence[i]):\n",
    "                charCount = charCount + 1\n",
    "        letterCount.append(charCount)\n",
    "    return letterCount\n",
    "string = input(\"Enter Sentence :\")\n",
    "wordCount1 = frequencies(string)\n",
    "print(wordCount1)\n"
   ]
  },
  {
   "cell_type": "code",
   "execution_count": null,
   "id": "c2d647cb-47b6-48cc-ad83-edf1c9d7b9c8",
   "metadata": {},
   "outputs": [],
   "source": []
  }
 ],
 "metadata": {
  "kernelspec": {
   "display_name": "Python 3 (ipykernel)",
   "language": "python",
   "name": "python3"
  },
  "language_info": {
   "codemirror_mode": {
    "name": "ipython",
    "version": 3
   },
   "file_extension": ".py",
   "mimetype": "text/x-python",
   "name": "python",
   "nbconvert_exporter": "python",
   "pygments_lexer": "ipython3",
   "version": "3.9.13"
  }
 },
 "nbformat": 4,
 "nbformat_minor": 5
}
